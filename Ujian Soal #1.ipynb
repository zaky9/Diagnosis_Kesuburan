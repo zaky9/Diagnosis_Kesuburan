{
 "cells": [
  {
   "cell_type": "markdown",
   "metadata": {},
   "source": [
    "*Attribute Information:* Season in which the analysis was performed. 1) winter, 2) spring, 3) Summer, 4) fall. (-1, -0.33, 0.33, 1)\n",
    "\n",
    "Age at the time of analysis. 18-36 (0, 1)\n",
    "\n",
    "Childish diseases (ie , chicken pox, measles, mumps, polio) 1) yes, 2) no. (0, 1)\n",
    "\n",
    "Accident or serious trauma 1) yes, 2) no. (0, 1)\n",
    "\n",
    "Surgical intervention 1) yes, 2) no. (0, 1)\n",
    "\n",
    "High fevers in the last year 1) less than three months ago, 2) more than three months ago, 3) no. (-1, 0, 1)\n",
    "\n",
    "Frequency of alcohol consumption 1) several times a day, 2) every day, 3) several times a week, 4) once a week, 5) hardly ever or never (0, 1)\n",
    "\n",
    "Smoking habit 1) never, 2) occasional 3) daily. (-1, 0, 1)\n",
    "\n",
    "Number of hours spent sitting per day ene-16 (0, 1)\n",
    "\n",
    "Output: Diagnosis normal (N), altered (O)"
   ]
  },
  {
   "cell_type": "code",
   "execution_count": 1,
   "metadata": {
    "ExecuteTime": {
     "end_time": "2019-07-15T04:11:32.199944Z",
     "start_time": "2019-07-15T04:11:29.073157Z"
    }
   },
   "outputs": [
    {
     "name": "stdout",
     "output_type": "stream",
     "text": [
      "['Season' 'Age' 'Childish diseases' 'Accident or serious trauma'\n",
      " 'Surgical intervention' 'High fevers in the last year'\n",
      " 'Frequency of alcohol consumption' 'Smoking habit'\n",
      " 'Number of hours spent sitting per day' 'Diagnosis']\n",
      "<class 'pandas.core.frame.DataFrame'>\n",
      "RangeIndex: 100 entries, 0 to 99\n",
      "Data columns (total 9 columns):\n",
      "Age                                      100 non-null int64\n",
      "Childish diseases                        100 non-null object\n",
      "Accident or serious trauma               100 non-null object\n",
      "Surgical intervention                    100 non-null object\n",
      "High fevers in the last year             100 non-null object\n",
      "Frequency of alcohol consumption         100 non-null object\n",
      "Smoking habit                            100 non-null object\n",
      "Number of hours spent sitting per day    100 non-null int64\n",
      "Diagnosis                                100 non-null object\n",
      "dtypes: int64(2), object(7)\n",
      "memory usage: 7.1+ KB\n",
      "None\n"
     ]
    }
   ],
   "source": [
    "import matplotlib.pyplot as plt \n",
    "import numpy as np\n",
    "import pandas as pd \n",
    "\n",
    "df = pd.read_csv(r'C:\\Users\\User\\Desktop\\tugas no3\\fertility.csv')\n",
    "print(df.columns.values)\n",
    "\n",
    "df.drop(['Season'],axis= 'columns', inplace=True)\n",
    "df.head()\n",
    "\n",
    "print(df.info())"
   ]
  },
  {
   "cell_type": "code",
   "execution_count": 2,
   "metadata": {
    "ExecuteTime": {
     "end_time": "2019-07-15T04:11:32.219951Z",
     "start_time": "2019-07-15T04:11:32.205946Z"
    }
   },
   "outputs": [
    {
     "name": "stdout",
     "output_type": "stream",
     "text": [
      "more than 3 months ago    63\n",
      "no                        28\n",
      "less than 3 months ago     9\n",
      "Name: High fevers in the last year, dtype: int64\n"
     ]
    }
   ],
   "source": [
    "print(df['High fevers in the last year'].value_counts()) # Check values per features/columns"
   ]
  },
  {
   "cell_type": "code",
   "execution_count": 3,
   "metadata": {
    "ExecuteTime": {
     "end_time": "2019-07-15T04:11:35.353739Z",
     "start_time": "2019-07-15T04:11:32.226952Z"
    }
   },
   "outputs": [
    {
     "name": "stdout",
     "output_type": "stream",
     "text": [
      "['no' 'yes']\n",
      "['no' 'yes']\n",
      "['no' 'yes']\n",
      "['less than 3 months ago' 'more than 3 months ago' 'no']\n",
      "['every day' 'hardly ever or never' 'once a week' 'several times a day'\n",
      " 'several times a week']\n",
      "['daily' 'never' 'occasional']\n",
      "['Altered' 'Normal']\n"
     ]
    }
   ],
   "source": [
    "from sklearn.preprocessing import LabelEncoder\n",
    "label = LabelEncoder()\n",
    "\n",
    "df['Childish diseases'] = label.fit_transform(df['Childish diseases']) \n",
    "print(label.classes_) # 0, 1\n",
    "\n",
    "df['Accident or serious trauma'] = label.fit_transform(df['Accident or serious trauma']) \n",
    "print(label.classes_) # no, yes\n",
    "\n",
    "df['Surgical intervention'] = label.fit_transform(df['Surgical intervention']) \n",
    "print(label.classes_) # no, yes\n",
    "\n",
    "df['High fevers in the last year'] = label.fit_transform(df['High fevers in the last year']) \n",
    "print(label.classes_) # ['less than 3 months ago' 'more than 3 months ago' 'no'] 0,1,2\n",
    "\n",
    "df['Frequency of alcohol consumption'] = label.fit_transform(df['Frequency of alcohol consumption']) \n",
    "print(label.classes_) # ['every day' 'hardly ever or never' 'once a week' 'several times a day' 'several times a week'] 0,1,2,3,4\n",
    "\n",
    "df['Smoking habit'] = label.fit_transform(df['Smoking habit']) \n",
    "print(label.classes_) # ['daily' 'never' 'occasional'] 0,1,2\n",
    "\n",
    "df['Diagnosis'] = label.fit_transform(df['Diagnosis']) \n",
    "print(label.classes_) # ['Altered' 'Normal'] 0,1\n"
   ]
  },
  {
   "cell_type": "code",
   "execution_count": 4,
   "metadata": {
    "ExecuteTime": {
     "end_time": "2019-07-15T04:11:35.393748Z",
     "start_time": "2019-07-15T04:11:35.360742Z"
    }
   },
   "outputs": [
    {
     "data": {
      "text/html": [
       "<div>\n",
       "<style scoped>\n",
       "    .dataframe tbody tr th:only-of-type {\n",
       "        vertical-align: middle;\n",
       "    }\n",
       "\n",
       "    .dataframe tbody tr th {\n",
       "        vertical-align: top;\n",
       "    }\n",
       "\n",
       "    .dataframe thead th {\n",
       "        text-align: right;\n",
       "    }\n",
       "</style>\n",
       "<table border=\"1\" class=\"dataframe\">\n",
       "  <thead>\n",
       "    <tr style=\"text-align: right;\">\n",
       "      <th></th>\n",
       "      <th>Age</th>\n",
       "      <th>Childish diseases</th>\n",
       "      <th>Accident or serious trauma</th>\n",
       "      <th>Surgical intervention</th>\n",
       "      <th>High fevers in the last year</th>\n",
       "      <th>Frequency of alcohol consumption</th>\n",
       "      <th>Smoking habit</th>\n",
       "      <th>Number of hours spent sitting per day</th>\n",
       "      <th>Diagnosis</th>\n",
       "    </tr>\n",
       "  </thead>\n",
       "  <tbody>\n",
       "    <tr>\n",
       "      <th>0</th>\n",
       "      <td>30</td>\n",
       "      <td>0</td>\n",
       "      <td>1</td>\n",
       "      <td>1</td>\n",
       "      <td>1</td>\n",
       "      <td>2</td>\n",
       "      <td>2</td>\n",
       "      <td>16</td>\n",
       "      <td>1</td>\n",
       "    </tr>\n",
       "    <tr>\n",
       "      <th>1</th>\n",
       "      <td>35</td>\n",
       "      <td>1</td>\n",
       "      <td>0</td>\n",
       "      <td>1</td>\n",
       "      <td>1</td>\n",
       "      <td>2</td>\n",
       "      <td>0</td>\n",
       "      <td>6</td>\n",
       "      <td>0</td>\n",
       "    </tr>\n",
       "  </tbody>\n",
       "</table>\n",
       "</div>"
      ],
      "text/plain": [
       "   Age  Childish diseases  Accident or serious trauma  Surgical intervention  \\\n",
       "0   30                  0                           1                      1   \n",
       "1   35                  1                           0                      1   \n",
       "\n",
       "   High fevers in the last year  Frequency of alcohol consumption  \\\n",
       "0                             1                                 2   \n",
       "1                             1                                 2   \n",
       "\n",
       "   Smoking habit  Number of hours spent sitting per day  Diagnosis  \n",
       "0              2                                     16          1  \n",
       "1              0                                      6          0  "
      ]
     },
     "execution_count": 4,
     "metadata": {},
     "output_type": "execute_result"
    }
   ],
   "source": [
    "df.head(2)"
   ]
  },
  {
   "cell_type": "code",
   "execution_count": 5,
   "metadata": {
    "ExecuteTime": {
     "end_time": "2019-07-15T04:11:35.465766Z",
     "start_time": "2019-07-15T04:11:35.398754Z"
    }
   },
   "outputs": [
    {
     "data": {
      "text/html": [
       "<div>\n",
       "<style scoped>\n",
       "    .dataframe tbody tr th:only-of-type {\n",
       "        vertical-align: middle;\n",
       "    }\n",
       "\n",
       "    .dataframe tbody tr th {\n",
       "        vertical-align: top;\n",
       "    }\n",
       "\n",
       "    .dataframe thead th {\n",
       "        text-align: right;\n",
       "    }\n",
       "</style>\n",
       "<table border=\"1\" class=\"dataframe\">\n",
       "  <thead>\n",
       "    <tr style=\"text-align: right;\">\n",
       "      <th></th>\n",
       "      <th>Age</th>\n",
       "      <th>Childish diseases</th>\n",
       "      <th>Accident or serious trauma</th>\n",
       "      <th>Surgical intervention</th>\n",
       "      <th>High fevers in the last year</th>\n",
       "      <th>Frequency of alcohol consumption</th>\n",
       "      <th>Smoking habit</th>\n",
       "      <th>Number of hours spent sitting per day</th>\n",
       "    </tr>\n",
       "  </thead>\n",
       "  <tbody>\n",
       "    <tr>\n",
       "      <th>0</th>\n",
       "      <td>30</td>\n",
       "      <td>0</td>\n",
       "      <td>1</td>\n",
       "      <td>1</td>\n",
       "      <td>1</td>\n",
       "      <td>2</td>\n",
       "      <td>2</td>\n",
       "      <td>16</td>\n",
       "    </tr>\n",
       "    <tr>\n",
       "      <th>1</th>\n",
       "      <td>35</td>\n",
       "      <td>1</td>\n",
       "      <td>0</td>\n",
       "      <td>1</td>\n",
       "      <td>1</td>\n",
       "      <td>2</td>\n",
       "      <td>0</td>\n",
       "      <td>6</td>\n",
       "    </tr>\n",
       "    <tr>\n",
       "      <th>2</th>\n",
       "      <td>27</td>\n",
       "      <td>1</td>\n",
       "      <td>0</td>\n",
       "      <td>0</td>\n",
       "      <td>1</td>\n",
       "      <td>1</td>\n",
       "      <td>1</td>\n",
       "      <td>9</td>\n",
       "    </tr>\n",
       "    <tr>\n",
       "      <th>3</th>\n",
       "      <td>32</td>\n",
       "      <td>0</td>\n",
       "      <td>1</td>\n",
       "      <td>1</td>\n",
       "      <td>1</td>\n",
       "      <td>1</td>\n",
       "      <td>1</td>\n",
       "      <td>7</td>\n",
       "    </tr>\n",
       "    <tr>\n",
       "      <th>4</th>\n",
       "      <td>30</td>\n",
       "      <td>1</td>\n",
       "      <td>1</td>\n",
       "      <td>0</td>\n",
       "      <td>1</td>\n",
       "      <td>2</td>\n",
       "      <td>1</td>\n",
       "      <td>9</td>\n",
       "    </tr>\n",
       "  </tbody>\n",
       "</table>\n",
       "</div>"
      ],
      "text/plain": [
       "   Age  Childish diseases  Accident or serious trauma  Surgical intervention  \\\n",
       "0   30                  0                           1                      1   \n",
       "1   35                  1                           0                      1   \n",
       "2   27                  1                           0                      0   \n",
       "3   32                  0                           1                      1   \n",
       "4   30                  1                           1                      0   \n",
       "\n",
       "   High fevers in the last year  Frequency of alcohol consumption  \\\n",
       "0                             1                                 2   \n",
       "1                             1                                 2   \n",
       "2                             1                                 1   \n",
       "3                             1                                 1   \n",
       "4                             1                                 2   \n",
       "\n",
       "   Smoking habit  Number of hours spent sitting per day  \n",
       "0              2                                     16  \n",
       "1              0                                      6  \n",
       "2              1                                      9  \n",
       "3              1                                      7  \n",
       "4              1                                      9  "
      ]
     },
     "execution_count": 5,
     "metadata": {},
     "output_type": "execute_result"
    }
   ],
   "source": [
    "x = df.drop(['Diagnosis'], axis=1) # Target\n",
    "x.head()"
   ]
  },
  {
   "cell_type": "code",
   "execution_count": 6,
   "metadata": {
    "ExecuteTime": {
     "end_time": "2019-07-15T04:11:35.549792Z",
     "start_time": "2019-07-15T04:11:35.475768Z"
    }
   },
   "outputs": [
    {
     "data": {
      "text/plain": [
       "0    1\n",
       "1    0\n",
       "2    1\n",
       "3    1\n",
       "4    0\n",
       "Name: Diagnosis, dtype: int32"
      ]
     },
     "execution_count": 6,
     "metadata": {},
     "output_type": "execute_result"
    }
   ],
   "source": [
    "y = df['Diagnosis']\n",
    "y.head()"
   ]
  },
  {
   "cell_type": "code",
   "execution_count": 7,
   "metadata": {
    "ExecuteTime": {
     "end_time": "2019-07-15T04:11:35.604877Z",
     "start_time": "2019-07-15T04:11:35.558789Z"
    }
   },
   "outputs": [
    {
     "name": "stdout",
     "output_type": "stream",
     "text": [
      "[ 0.  1.  1.  0.  0.  1.  0.  1.  0.  0.  0.  1.  0.  0.  1.  0.  0. 35.\n",
      "  6.]\n"
     ]
    }
   ],
   "source": [
    "from sklearn.preprocessing import OneHotEncoder\n",
    "from sklearn.compose import ColumnTransformer\n",
    "\n",
    "coltrans = ColumnTransformer(\n",
    "    [('one_hot_encoder', OneHotEncoder(categories='auto'), [1,2,3,4,5,6])] \n",
    "    , remainder='passthrough'\n",
    ")\n",
    "x = np.array(coltrans.fit_transform(x), dtype=np.float64)\n",
    "print(x[1])"
   ]
  },
  {
   "cell_type": "code",
   "execution_count": 8,
   "metadata": {
    "ExecuteTime": {
     "end_time": "2019-07-15T04:11:35.690881Z",
     "start_time": "2019-07-15T04:11:35.611806Z"
    }
   },
   "outputs": [],
   "source": [
    "from sklearn.model_selection import train_test_split\n",
    "x_train, x_test, y_train, y_test = train_test_split(\n",
    "    x,\n",
    "    y,\n",
    "    test_size = .1\n",
    ")"
   ]
  },
  {
   "cell_type": "code",
   "execution_count": 9,
   "metadata": {
    "ExecuteTime": {
     "end_time": "2019-07-15T04:11:35.809855Z",
     "start_time": "2019-07-15T04:11:35.697825Z"
    }
   },
   "outputs": [
    {
     "name": "stdout",
     "output_type": "stream",
     "text": [
      "100.0 %\n",
      "[ 0.  1.  1.  0.  1.  0.  0.  1.  0.  0.  1.  0.  0.  0.  0.  1.  0. 28.\n",
      "  8.]\n",
      "1\n",
      "[1]\n"
     ]
    }
   ],
   "source": [
    "# Logistic regression (modellog)\n",
    "from sklearn.linear_model import LogisticRegression\n",
    "modellog = LogisticRegression(solver='liblinear')\n",
    "modellog.fit(x_train, y_train)\n",
    "\n",
    "print(round(modellog.score(x_test, y_test)*100,2),'%')\n",
    "print(x_test[0])\n",
    "print(y_test.iloc[0])\n",
    "print(modellog.predict(x_test[0].reshape(1,-1)))"
   ]
  },
  {
   "cell_type": "code",
   "execution_count": 10,
   "metadata": {
    "ExecuteTime": {
     "end_time": "2019-07-15T04:11:35.941894Z",
     "start_time": "2019-07-15T04:11:35.814857Z"
    }
   },
   "outputs": [
    {
     "name": "stdout",
     "output_type": "stream",
     "text": [
      "100.0 %\n"
     ]
    }
   ],
   "source": [
    "# Decision Trees\n",
    "from sklearn import tree\n",
    "modelDT = tree.DecisionTreeClassifier()\n",
    "modelDT.fit(x_train,y_train)\n",
    "print(round(modelDT.score(x_test,y_test)*100,2),'%')\n"
   ]
  },
  {
   "cell_type": "code",
   "execution_count": 11,
   "metadata": {
    "ExecuteTime": {
     "end_time": "2019-07-15T04:11:35.962965Z",
     "start_time": "2019-07-15T04:11:35.945889Z"
    }
   },
   "outputs": [
    {
     "name": "stdout",
     "output_type": "stream",
     "text": [
      "100.0 %\n"
     ]
    }
   ],
   "source": [
    "# Kneighbors\n",
    "from sklearn.neighbors import KNeighborsClassifier\n",
    "modelKn = KNeighborsClassifier()\n",
    "modelKn.fit(x_train,y_train)\n",
    "print(round(modelKn.score(x_test,y_test)*100,2),'%')"
   ]
  },
  {
   "cell_type": "markdown",
   "metadata": {
    "ExecuteTime": {
     "end_time": "2019-07-15T02:49:18.551944Z",
     "start_time": "2019-07-15T02:49:18.518934Z"
    }
   },
   "source": [
    "\n",
    "- chld dss, # no (0), yes (1)\n",
    "- accdnt, # no (0), yes (1)\n",
    "- srgcl intv, # no (0), yes (1)\n",
    "- hgh fev, # ['less than 3 months ago' 'more than 3 months ago' 'no'] 0,1,2\n",
    "- freq achl, # # ['every day' 'hardly ever or never' 'once a week' 'several times a day' 'several times a week'] 0,1,2,3,4\n",
    "- smkng hbt, # ['daily' 'never' 'occasional'] 0,1,2\n",
    "- age, \n",
    "- no hrs siting, # ['daily' 'never' 'occasional'] 0,1,2\n"
   ]
  },
  {
   "cell_type": "code",
   "execution_count": 12,
   "metadata": {
    "ExecuteTime": {
     "end_time": "2019-07-15T04:11:35.990898Z",
     "start_time": "2019-07-15T04:11:35.968892Z"
    }
   },
   "outputs": [
    {
     "name": "stdout",
     "output_type": "stream",
     "text": [
      "Arin, prediksi kesuburan:  Normal  (Logistic Regression)\n",
      "Arin, prediksi kesuburan:  Normal  (Decision Trees)\n",
      "Arin, prediksi kesuburan:  Normal  (K-nearest  neigbours)\n"
     ]
    }
   ],
   "source": [
    "pred = [[ 1,  0,  1,  0,  0,  0,  1,  1,  0,  0,  1,  1,  0,  0,  0,  0,  1, 29, 5]]\n",
    "# Logistic regression\n",
    "if int(modellog.predict(pred)) == 1:\n",
    "    diagnoselog = 'Normal'\n",
    "else:\n",
    "    diagnoselog = 'Altered'\n",
    "# Decision Trees\n",
    "if int(modelDT.predict(pred)) == 1:\n",
    "    diagnoseDT = 'Normal'\n",
    "else:\n",
    "    diagnoseDT = 'Altered'\n",
    "# K nearest neighbour\n",
    "if int(modelKn.predict(pred)) == 1:\n",
    "    diagnoseKn = 'Normal'\n",
    "else:\n",
    "    diagnoseKn = 'Altered'\n",
    "    \n",
    "print('Arin, prediksi kesuburan: ',diagnoselog,' (Logistic Regression)')\n",
    "print('Arin, prediksi kesuburan: ',diagnoseDT,' (Decision Trees)')\n",
    "print('Arin, prediksi kesuburan: ',diagnoseKn,' (K-nearest  neigbours)')"
   ]
  },
  {
   "cell_type": "code",
   "execution_count": 13,
   "metadata": {
    "ExecuteTime": {
     "end_time": "2019-07-15T04:11:36.007902Z",
     "start_time": "2019-07-15T04:11:35.995974Z"
    }
   },
   "outputs": [
    {
     "ename": "SyntaxError",
     "evalue": "invalid syntax (<ipython-input-13-be34b7a1cea5>, line 1)",
     "output_type": "error",
     "traceback": [
      "\u001b[1;36m  File \u001b[1;32m\"<ipython-input-13-be34b7a1cea5>\"\u001b[1;36m, line \u001b[1;32m1\u001b[0m\n\u001b[1;33m    0,    1,  0,    1,  1,   0,              0,                     1,             0,     0,       0,         1,           0,                      0,         0,    0,        1,      29, 5]])\u001b[0m\n\u001b[1;37m                                                                                                                                                                                           ^\u001b[0m\n\u001b[1;31mSyntaxError\u001b[0m\u001b[1;31m:\u001b[0m invalid syntax\n"
     ]
    }
   ],
   "source": [
    " 0,    1,  0,    1,  1,   0,              0,                     1,             0,     0,       0,         1,           0,                      0,         0,    0,        1,      29, 5]])\n",
    "# no, yes, no , yes, no, yes, less than 3 months ago, 'more than 3 months ago, 'no', everyday, never, once a week, several times day, everal times week, daily, never, occasional, age, hours siting"
   ]
  }
 ],
 "metadata": {
  "hide_input": false,
  "kernelspec": {
   "display_name": "Python 3",
   "language": "python",
   "name": "python3"
  },
  "language_info": {
   "codemirror_mode": {
    "name": "ipython",
    "version": 3
   },
   "file_extension": ".py",
   "mimetype": "text/x-python",
   "name": "python",
   "nbconvert_exporter": "python",
   "pygments_lexer": "ipython3",
   "version": "3.7.3"
  },
  "toc": {
   "base_numbering": 1,
   "nav_menu": {},
   "number_sections": true,
   "sideBar": true,
   "skip_h1_title": false,
   "title_cell": "Table of Contents",
   "title_sidebar": "Contents",
   "toc_cell": false,
   "toc_position": {},
   "toc_section_display": true,
   "toc_window_display": false
  },
  "varInspector": {
   "cols": {
    "lenName": 16,
    "lenType": 16,
    "lenVar": 40
   },
   "kernels_config": {
    "python": {
     "delete_cmd_postfix": "",
     "delete_cmd_prefix": "del ",
     "library": "var_list.py",
     "varRefreshCmd": "print(var_dic_list())"
    },
    "r": {
     "delete_cmd_postfix": ") ",
     "delete_cmd_prefix": "rm(",
     "library": "var_list.r",
     "varRefreshCmd": "cat(var_dic_list()) "
    }
   },
   "position": {
    "height": "167.4px",
    "left": "1096px",
    "right": "20px",
    "top": "121px",
    "width": "350px"
   },
   "types_to_exclude": [
    "module",
    "function",
    "builtin_function_or_method",
    "instance",
    "_Feature"
   ],
   "window_display": true
  }
 },
 "nbformat": 4,
 "nbformat_minor": 2
}
